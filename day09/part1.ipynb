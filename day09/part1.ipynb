{
 "cells": [
  {
   "cell_type": "code",
   "execution_count": 8,
   "metadata": {},
   "outputs": [],
   "source": [
    "is_notebook = get_ipython().has_trait(\"kernel\")  # type: ignore"
   ]
  },
  {
   "cell_type": "code",
   "execution_count": 9,
   "metadata": {},
   "outputs": [],
   "source": [
    "disk_map = input() or \"2333133121414131402\""
   ]
  },
  {
   "cell_type": "markdown",
   "metadata": {},
   "source": [
    "The disk map alternates between files and spaces, starting with files.\n"
   ]
  },
  {
   "cell_type": "code",
   "execution_count": 10,
   "metadata": {},
   "outputs": [],
   "source": [
    "from dataclasses import dataclass\n",
    "from typing import Union\n",
    "\n",
    "\n",
    "@dataclass\n",
    "class File:\n",
    "    id: int\n",
    "\n",
    "\n",
    "@dataclass\n",
    "class Space:\n",
    "    pass\n",
    "\n",
    "\n",
    "DiskElement = Union[File, Space]"
   ]
  },
  {
   "cell_type": "code",
   "execution_count": 11,
   "metadata": {},
   "outputs": [],
   "source": [
    "from typing import Iterable"
   ]
  },
  {
   "cell_type": "code",
   "execution_count": 12,
   "metadata": {},
   "outputs": [],
   "source": [
    "def expand_disk_map(disk_map: str) -> Iterable[DiskElement]:\n",
    "    for i, element_count in enumerate(disk_map):\n",
    "        is_file = i % 2 == 0\n",
    "        for _ in range(int(element_count)):\n",
    "            if is_file:\n",
    "                yield File(id=i // 2)\n",
    "            else:\n",
    "                yield Space()"
   ]
  },
  {
   "cell_type": "code",
   "execution_count": 13,
   "metadata": {},
   "outputs": [],
   "source": [
    "def format_disk(disk: Iterable[DiskElement]) -> str:\n",
    "    return \"\".join(\n",
    "        f\"{element.id}\" if isinstance(element, File) else \".\" for element in disk\n",
    "    )"
   ]
  },
  {
   "cell_type": "code",
   "execution_count": 14,
   "metadata": {},
   "outputs": [
    {
     "data": {
      "text/plain": [
       "'0..111....22222'"
      ]
     },
     "execution_count": 14,
     "metadata": {},
     "output_type": "execute_result"
    }
   ],
   "source": [
    "format_disk(expand_disk_map(\"12345\"))"
   ]
  },
  {
   "cell_type": "code",
   "execution_count": 16,
   "metadata": {},
   "outputs": [
    {
     "data": {
      "text/plain": [
       "'00...111...2...333.44.5555.6666.777.888899'"
      ]
     },
     "execution_count": 16,
     "metadata": {},
     "output_type": "execute_result"
    }
   ],
   "source": [
    "format_disk(expand_disk_map(disk_map)) if is_notebook else None"
   ]
  },
  {
   "cell_type": "code",
   "execution_count": 18,
   "metadata": {},
   "outputs": [],
   "source": [
    "def defrag_disk(\n",
    "    disk: Iterable[DiskElement],\n",
    ") -> Iterable[list[DiskElement]]:\n",
    "    \"\"\"Defrags the disk by repeatedly moving the last file to the leftmost available space.\"\"\"\n",
    "    result = list(disk)\n",
    "    left = 0\n",
    "    right = len(result) - 1\n",
    "\n",
    "    yield result\n",
    "\n",
    "    while left < right:\n",
    "        if not isinstance(result[left], Space):\n",
    "            left += 1\n",
    "            continue\n",
    "        if not isinstance(result[right], File):\n",
    "            right -= 1\n",
    "            continue\n",
    "\n",
    "        result[left], result[right] = result[right], result[left]\n",
    "        yield result"
   ]
  },
  {
   "cell_type": "code",
   "execution_count": 19,
   "metadata": {},
   "outputs": [
    {
     "data": {
      "text/plain": [
       "['0..111....22222',\n",
       " '02.111....2222.',\n",
       " '022111....222..',\n",
       " '0221112...22...',\n",
       " '02211122..2....',\n",
       " '022111222......']"
      ]
     },
     "execution_count": 19,
     "metadata": {},
     "output_type": "execute_result"
    }
   ],
   "source": [
    "it = defrag_disk(expand_disk_map(\"12345\"))\n",
    "\n",
    "[format_disk(step) for step in it] if is_notebook else None"
   ]
  },
  {
   "cell_type": "code",
   "execution_count": 21,
   "metadata": {},
   "outputs": [
    {
     "data": {
      "text/plain": [
       "['00...111...2...333.44.5555.6666.777.888899',\n",
       " '009..111...2...333.44.5555.6666.777.88889.',\n",
       " '0099.111...2...333.44.5555.6666.777.8888..',\n",
       " '00998111...2...333.44.5555.6666.777.888...',\n",
       " '009981118..2...333.44.5555.6666.777.88....',\n",
       " '0099811188.2...333.44.5555.6666.777.8.....',\n",
       " '009981118882...333.44.5555.6666.777.......',\n",
       " '0099811188827..333.44.5555.6666.77........',\n",
       " '00998111888277.333.44.5555.6666.7.........',\n",
       " '009981118882777333.44.5555.6666...........',\n",
       " '009981118882777333644.5555.666............',\n",
       " '00998111888277733364465555.66.............',\n",
       " '0099811188827773336446555566..............']"
      ]
     },
     "execution_count": 21,
     "metadata": {},
     "output_type": "execute_result"
    }
   ],
   "source": [
    "it = defrag_disk(expand_disk_map(disk_map))\n",
    "\n",
    "[format_disk(step) for step in it] if is_notebook else None"
   ]
  },
  {
   "cell_type": "code",
   "execution_count": 22,
   "metadata": {},
   "outputs": [],
   "source": [
    "*_, defragged = defrag_disk(list(expand_disk_map(disk_map)))"
   ]
  },
  {
   "cell_type": "code",
   "execution_count": 23,
   "metadata": {},
   "outputs": [],
   "source": [
    "def checksum(disk: Iterable[DiskElement]) -> Iterable[int]:\n",
    "    for i, x in enumerate(disk):\n",
    "        if isinstance(x, File):\n",
    "            yield i * x.id"
   ]
  },
  {
   "cell_type": "code",
   "execution_count": 24,
   "metadata": {},
   "outputs": [
    {
     "name": "stdout",
     "output_type": "stream",
     "text": [
      "1928\n"
     ]
    }
   ],
   "source": [
    "print(sum(checksum(defragged)))"
   ]
  }
 ],
 "metadata": {
  "kernelspec": {
   "display_name": ".venv",
   "language": "python",
   "name": "python3"
  },
  "language_info": {
   "codemirror_mode": {
    "name": "ipython",
    "version": 3
   },
   "file_extension": ".py",
   "mimetype": "text/x-python",
   "name": "python",
   "nbconvert_exporter": "python",
   "pygments_lexer": "ipython3",
   "version": "3.10.4"
  }
 },
 "nbformat": 4,
 "nbformat_minor": 2
}
