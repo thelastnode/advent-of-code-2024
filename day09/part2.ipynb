{
 "cells": [
  {
   "cell_type": "code",
   "execution_count": 1,
   "metadata": {},
   "outputs": [],
   "source": [
    "is_notebook = get_ipython().has_trait(\"kernel\")  # type: ignore"
   ]
  },
  {
   "cell_type": "code",
   "execution_count": 2,
   "metadata": {},
   "outputs": [],
   "source": [
    "disk_map = input() or \"2333133121414131402\""
   ]
  },
  {
   "cell_type": "markdown",
   "metadata": {},
   "source": [
    "The disk map alternates between files and spaces, starting with files.\n"
   ]
  },
  {
   "cell_type": "code",
   "execution_count": 3,
   "metadata": {},
   "outputs": [],
   "source": [
    "from dataclasses import dataclass\n",
    "from typing import Union\n",
    "\n",
    "\n",
    "@dataclass\n",
    "class File:\n",
    "    id: int\n",
    "    size: int\n",
    "\n",
    "\n",
    "@dataclass\n",
    "class Space:\n",
    "    size: int\n",
    "\n",
    "\n",
    "DiskElement = Union[File, Space]"
   ]
  },
  {
   "cell_type": "code",
   "execution_count": 4,
   "metadata": {},
   "outputs": [],
   "source": [
    "from typing import Iterable"
   ]
  },
  {
   "cell_type": "code",
   "execution_count": 5,
   "metadata": {},
   "outputs": [],
   "source": [
    "def expand_disk_map(disk_map: str) -> Iterable[DiskElement]:\n",
    "    for i, element_count in enumerate(disk_map):\n",
    "        is_file = i % 2 == 0\n",
    "        element_count = int(element_count)\n",
    "\n",
    "        if is_file:\n",
    "            yield File(id=i // 2, size=element_count)\n",
    "        else:\n",
    "            yield Space(size=element_count)"
   ]
  },
  {
   "cell_type": "code",
   "execution_count": 6,
   "metadata": {},
   "outputs": [],
   "source": [
    "def format_disk(disk: Iterable[DiskElement]) -> str:\n",
    "    return \"\".join(\n",
    "        f\"{element.id}\" * element.size\n",
    "        if isinstance(element, File)\n",
    "        else \".\" * element.size\n",
    "        for element in disk\n",
    "    )"
   ]
  },
  {
   "cell_type": "code",
   "execution_count": 7,
   "metadata": {},
   "outputs": [
    {
     "data": {
      "text/plain": [
       "'0..111....22222'"
      ]
     },
     "execution_count": 7,
     "metadata": {},
     "output_type": "execute_result"
    }
   ],
   "source": [
    "format_disk(expand_disk_map(\"12345\"))"
   ]
  },
  {
   "cell_type": "code",
   "execution_count": 8,
   "metadata": {},
   "outputs": [
    {
     "data": {
      "text/plain": [
       "'00...111...2...333.44.5555.6666.777.888899'"
      ]
     },
     "execution_count": 8,
     "metadata": {},
     "output_type": "execute_result"
    }
   ],
   "source": [
    "format_disk(expand_disk_map(disk_map)) if is_notebook else None"
   ]
  },
  {
   "cell_type": "code",
   "execution_count": 9,
   "metadata": {},
   "outputs": [],
   "source": [
    "def find_space(disk: list[DiskElement], size: int) -> int:\n",
    "    for i, element in enumerate(disk):\n",
    "        if isinstance(element, Space) and element.size >= size:\n",
    "            return i\n",
    "    return -1"
   ]
  },
  {
   "cell_type": "code",
   "execution_count": 12,
   "metadata": {},
   "outputs": [
    {
     "data": {
      "text/plain": [
       "3"
      ]
     },
     "execution_count": 12,
     "metadata": {},
     "output_type": "execute_result"
    }
   ],
   "source": [
    "find_space(list(expand_disk_map(\"12345\")), 3)"
   ]
  },
  {
   "cell_type": "code",
   "execution_count": 21,
   "metadata": {},
   "outputs": [],
   "source": [
    "def move_file(disk: list[DiskElement], from_index: int, to_index: int) -> None:\n",
    "    assert from_index > to_index\n",
    "\n",
    "    file = disk[from_index]\n",
    "    disk[from_index] = Space(size=file.size)\n",
    "\n",
    "    disk[to_index].size -= file.size\n",
    "    if disk[to_index].size == 0:\n",
    "        disk[to_index] = file\n",
    "    else:\n",
    "        disk.insert(to_index, file)"
   ]
  },
  {
   "cell_type": "code",
   "execution_count": 25,
   "metadata": {},
   "outputs": [
    {
     "name": "stdout",
     "output_type": "stream",
     "text": [
      "00...111...2...333.44.5555.6666.777.888899\n",
      "0099.111...2...333.44.5555.6666.777.8888..\n"
     ]
    }
   ],
   "source": [
    "if is_notebook:\n",
    "    test_disk = list(expand_disk_map(disk_map))\n",
    "    print(format_disk(test_disk))\n",
    "    nine_index = next(\n",
    "        i\n",
    "        for i, element in enumerate(test_disk)\n",
    "        if isinstance(element, File) and element.id == 9\n",
    "    )\n",
    "    move_file(test_disk, from_index=nine_index, to_index=1)\n",
    "    print(format_disk(test_disk))"
   ]
  },
  {
   "cell_type": "code",
   "execution_count": 37,
   "metadata": {},
   "outputs": [],
   "source": [
    "def defrag_disk(\n",
    "    disk: Iterable[DiskElement],\n",
    ") -> Iterable[list[DiskElement]]:\n",
    "    result = list(disk)\n",
    "    file_ids = [x.id for x in result if isinstance(x, File)]\n",
    "\n",
    "    yield result\n",
    "\n",
    "    while file_ids:\n",
    "        file_id = file_ids.pop()\n",
    "        file_index = next(\n",
    "            i for i, x in enumerate(result) if isinstance(x, File) and x.id == file_id\n",
    "        )\n",
    "        file = result[file_index]\n",
    "        space_index = find_space(result, file.size)\n",
    "\n",
    "        if space_index == -1 or space_index >= file_index:\n",
    "            continue\n",
    "\n",
    "        move_file(result, from_index=file_index, to_index=space_index)\n",
    "\n",
    "        yield result"
   ]
  },
  {
   "cell_type": "code",
   "execution_count": 41,
   "metadata": {},
   "outputs": [
    {
     "data": {
      "text/plain": [
       "['00...111...2...333.44.5555.6666.777.888899',\n",
       " '0099.111...2...333.44.5555.6666.777.8888..',\n",
       " '0099.1117772...333.44.5555.6666.....8888..',\n",
       " '0099.111777244.333....5555.6666.....8888..',\n",
       " '00992111777.44.333....5555.6666.....8888..']"
      ]
     },
     "execution_count": 41,
     "metadata": {},
     "output_type": "execute_result"
    }
   ],
   "source": [
    "it = defrag_disk(expand_disk_map(disk_map))\n",
    "\n",
    "[format_disk(step) for step in it] if is_notebook else None"
   ]
  },
  {
   "cell_type": "code",
   "execution_count": 42,
   "metadata": {},
   "outputs": [],
   "source": [
    "*_, defragged = defrag_disk(list(expand_disk_map(disk_map)))"
   ]
  },
  {
   "cell_type": "code",
   "execution_count": 46,
   "metadata": {},
   "outputs": [],
   "source": [
    "def checksum(disk: Iterable[DiskElement]) -> Iterable[int]:\n",
    "    block = 0\n",
    "    for x in disk:\n",
    "        for _ in range(x.size):\n",
    "            if isinstance(x, File):\n",
    "                yield block * x.id\n",
    "            block += 1"
   ]
  },
  {
   "cell_type": "code",
   "execution_count": 47,
   "metadata": {},
   "outputs": [
    {
     "name": "stdout",
     "output_type": "stream",
     "text": [
      "2858\n"
     ]
    }
   ],
   "source": [
    "print(sum(checksum(defragged)))"
   ]
  }
 ],
 "metadata": {
  "kernelspec": {
   "display_name": ".venv",
   "language": "python",
   "name": "python3"
  },
  "language_info": {
   "codemirror_mode": {
    "name": "ipython",
    "version": 3
   },
   "file_extension": ".py",
   "mimetype": "text/x-python",
   "name": "python",
   "nbconvert_exporter": "python",
   "pygments_lexer": "ipython3",
   "version": "3.10.4"
  }
 },
 "nbformat": 4,
 "nbformat_minor": 2
}
